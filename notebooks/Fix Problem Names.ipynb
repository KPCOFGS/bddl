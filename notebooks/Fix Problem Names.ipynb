{
 "cells": [
  {
   "cell_type": "code",
   "execution_count": 4,
   "id": "a7825ad9",
   "metadata": {},
   "outputs": [],
   "source": [
    "from bddl.activity import get_all_activities\n",
    "from bddl.config import get_definition_filename, ACTIVITY_CONFIGS_PATH\n",
    "import os"
   ]
  },
  {
   "cell_type": "code",
   "execution_count": 5,
   "id": "9e048468",
   "metadata": {},
   "outputs": [],
   "source": [
    "import re\n",
    "\n",
    "inst_expr = re.compile(r\"problem([0-9]).bddl\")\n",
    "problem_expr = re.compile(r\"\\(define \\(problem .*\\)\\n\")\n",
    "\n",
    "def fix_inst(act, inst):\n",
    "    fn = os.path.join(ACTIVITY_CONFIGS_PATH, act, f\"problem{inst}.bddl\")\n",
    "    assert os.path.exists(fn)\n",
    "    # Check the first line\n",
    "    with open(fn, \"r\") as f:\n",
    "        lines = f.readlines()\n",
    "    assert problem_expr.fullmatch(lines[0]), lines[0]\n",
    "    # Replace it with the appropriate def\n",
    "    lines[0] = f\"(define (problem {act}-{inst})\\n\"\n",
    "    with open(fn, \"w\") as f:\n",
    "        f.writelines(lines)\n",
    "\n",
    "def fix_act(act):\n",
    "    instances = os.listdir(os.path.join(ACTIVITY_CONFIGS_PATH, act))\n",
    "    matches = [inst_expr.fullmatch(x) for x in instances]\n",
    "    assert all(matches), str(instances)\n",
    "    for inst in matches:\n",
    "        fix_inst(act, int(inst.group(1)))"
   ]
  },
  {
   "cell_type": "code",
   "execution_count": 7,
   "id": "f96f1dd4",
   "metadata": {},
   "outputs": [],
   "source": [
    "for act in get_all_activities():\n",
    "    fix_act(act)"
   ]
  },
  {
   "cell_type": "code",
   "execution_count": null,
   "id": "fb42f2bb",
   "metadata": {},
   "outputs": [],
   "source": []
  }
 ],
 "metadata": {
  "kernelspec": {
   "display_name": "Python 3 (ipykernel)",
   "language": "python",
   "name": "python3"
  },
  "language_info": {
   "codemirror_mode": {
    "name": "ipython",
    "version": 3
   },
   "file_extension": ".py",
   "mimetype": "text/x-python",
   "name": "python",
   "nbconvert_exporter": "python",
   "pygments_lexer": "ipython3",
   "version": "3.8.0"
  }
 },
 "nbformat": 4,
 "nbformat_minor": 5
}
